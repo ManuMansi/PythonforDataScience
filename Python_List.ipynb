{
  "cells": [
    {
      "cell_type": "markdown",
      "id": "b5fabd6b",
      "metadata": {
        "id": "b5fabd6b"
      },
      "source": [
        "<a href=\"https://www.viharatech.com\"><img src=\"https://miro.medium.com/v2/resize:fit:828/format:webp/1*on2Bpj6A5gfd-CzaFOAZRA.jpeg\"></a>\n",
        "\n",
        "\n",
        "- `Welcome to our interactive learning session! In this Jupyter notebook, you'll find a series of questions related to Python List Concept. To maximize your learning, please write Python code in the cell below each question and execute it. This hands-on practice will help reinforce your understanding of the concepts. Feel free to reach out if you have any questions or need assistance. Happy coding! 💻🐍 `"
      ]
    },
    {
      "cell_type": "markdown",
      "id": "db689fc2",
      "metadata": {
        "id": "db689fc2"
      },
      "source": [
        "### Question 1: Write a Python program to count the number of elements in a list without using len.\n",
        "\n",
        "\n",
        "- `sample input : `\n",
        "    - `var = [10,11,12,13]`\n",
        "- `sample output :`\n",
        "    - `result : 4`"
      ]
    },
    {
      "cell_type": "code",
      "execution_count": null,
      "id": "c9ce9180",
      "metadata": {
        "id": "c9ce9180",
        "outputId": "a581a5f3-0a40-40b9-a8b7-85efe2847e6a",
        "colab": {
          "base_uri": "https://localhost:8080/"
        }
      },
      "outputs": [
        {
          "output_type": "stream",
          "name": "stdout",
          "text": [
            "Enter number of elements: 4\n",
            "Enter element 1: 10\n",
            "Enter element 2: 11\n",
            "Enter element 3: 12\n",
            "Enter element 4: 13\n",
            "4\n"
          ]
        }
      ],
      "source": [
        "# Please write The solution Here for above question 1:\n",
        "var = []\n",
        "count=0\n",
        "n = int(input(\"Enter number of elements: \"))\n",
        "for i in range(n):\n",
        "    element = input(f\"Enter element {i+1}: \")\n",
        "    var.append(element)\n",
        "for i in var:\n",
        "  count+=1\n",
        "print(count)"
      ]
    },
    {
      "cell_type": "markdown",
      "id": "46f069cc",
      "metadata": {
        "id": "46f069cc"
      },
      "source": [
        "### Question 2: Write a Python program to find the maximum and minimum values in a given list.\n",
        "\n",
        "- `sample input : `\n",
        "    - `var = [10,11,12,13,14,15]`\n",
        "- `sample output :`\n",
        "    - `result : max = 15 , min = 10`"
      ]
    },
    {
      "cell_type": "code",
      "execution_count": null,
      "id": "2cde3dcc",
      "metadata": {
        "id": "2cde3dcc",
        "outputId": "18ee8e05-6676-4154-f493-504b93ed8f5c",
        "colab": {
          "base_uri": "https://localhost:8080/"
        }
      },
      "outputs": [
        {
          "output_type": "stream",
          "name": "stdout",
          "text": [
            "Enter number of elements: 3\n",
            "Enter element 1: 134\n",
            "Enter element 2: 121\n",
            "Enter element 3: 155\n",
            "min is 121 and max is 155\n"
          ]
        }
      ],
      "source": [
        "# Please write The solution Here for above question 2:\n",
        "var = []\n",
        "n = int(input(\"Enter number of elements: \"))\n",
        "for i in range(n):\n",
        "    element = input(f\"Enter element {i+1}: \")\n",
        "    var.append(element)\n",
        "sorted_var = sorted(var)\n",
        "min = sorted_var[0]\n",
        "max = sorted_var[-1]\n",
        "print(f\"min is {min} and max is {max}\")"
      ]
    },
    {
      "cell_type": "markdown",
      "id": "0f3a2ef5",
      "metadata": {
        "id": "0f3a2ef5"
      },
      "source": [
        "### Question 3: Write a Python program to remove the first occurrence of a specified element from a list.\n",
        "\n",
        "- `sample input : `\n",
        "    - `var = [1,2,3,4,2,5]`\n",
        "- `sample output :`\n",
        "    - `result : [1,3,4,2,5]`\n",
        "    "
      ]
    },
    {
      "cell_type": "code",
      "execution_count": null,
      "id": "74b9f01a",
      "metadata": {
        "id": "74b9f01a",
        "outputId": "dab695c4-345d-482f-a82c-ac2c166f5697",
        "colab": {
          "base_uri": "https://localhost:8080/"
        }
      },
      "outputs": [
        {
          "output_type": "stream",
          "name": "stdout",
          "text": [
            "Enter number of elements: 6\n",
            "Enter element 1: 1\n",
            "Enter element 2: 2\n",
            "Enter element 3: 3\n",
            "Enter element 4: 4\n",
            "Enter element 5: 2\n",
            "Enter element 6: 5\n",
            "enter the element you want to remove : 2\n",
            "[1, 3, 4, 2, 5]\n"
          ]
        }
      ],
      "source": [
        "# Please write The solution Here for above question 3:\n",
        "var = []\n",
        "n = int(input(\"Enter number of elements: \"))\n",
        "for i in range(n):\n",
        "    element = int(input(f\"Enter element {i+1}: \"))\n",
        "    var.append(element)\n",
        "x = int(input(\"enter the element you want to remove : \"))\n",
        "var.remove(x)\n",
        "print(var)"
      ]
    },
    {
      "cell_type": "markdown",
      "id": "98e0fc60",
      "metadata": {
        "id": "98e0fc60"
      },
      "source": [
        "### Question 4: Write a Python program to find the average of all the elements in a list.\n",
        "\n",
        "\n",
        "- `sample input : `\n",
        "    - `var = [1,2,3,4,2,5]`\n",
        "- `sample output :`\n",
        "    - `result : 2.833 `"
      ]
    },
    {
      "cell_type": "code",
      "execution_count": null,
      "id": "5ed30f02",
      "metadata": {
        "id": "5ed30f02",
        "colab": {
          "base_uri": "https://localhost:8080/"
        },
        "outputId": "886626c5-55f3-45bc-ddb7-046c25fa305f"
      },
      "outputs": [
        {
          "output_type": "stream",
          "name": "stdout",
          "text": [
            "Enter number of elements: 6\n",
            "Enter element 1: 1\n",
            "Enter element 2: 2\n",
            "Enter element 3: 3\n",
            "Enter element 4: 4\n",
            "Enter element 5: 5\n",
            "Enter element 6: 2\n",
            "Average of numbers in the list is : 2.833\n"
          ]
        }
      ],
      "source": [
        "# Please write The solution Here for above question 4:\n",
        "var = []\n",
        "sum = 0\n",
        "n = int(input(\"Enter number of elements: \"))\n",
        "for i in range(n):\n",
        "    element = int(input(f\"Enter element {i+1}: \"))\n",
        "    var.append(element)\n",
        "for i in var:\n",
        "  sum += i\n",
        "average = round(sum/n, 3)\n",
        "print(f\"Average of numbers in the list is : {average}\")"
      ]
    },
    {
      "cell_type": "markdown",
      "id": "17eb44eb",
      "metadata": {
        "id": "17eb44eb"
      },
      "source": [
        "### Question 5: Write a Python program to check if a list is empty or not.\n",
        "\n",
        "\n",
        "- `sample input : `\n",
        "    - `var1 = [1,2]`\n",
        "- `sample output :`\n",
        "    - `result : Not empty`\n",
        "    \n",
        "- `sample input : `\n",
        "    - `var1 = []`\n",
        "- `sample output :`\n",
        "    - `result :empty`\n",
        "    \n"
      ]
    },
    {
      "cell_type": "code",
      "execution_count": null,
      "id": "29f0e87e",
      "metadata": {
        "id": "29f0e87e",
        "colab": {
          "base_uri": "https://localhost:8080/"
        },
        "outputId": "918a4175-c4f4-495c-cb02-2ef44db20c48"
      },
      "outputs": [
        {
          "output_type": "stream",
          "name": "stdout",
          "text": [
            "Enter number of elements: 2\n",
            "Enter element 1: 1\n",
            "Enter element 2: 2\n",
            "not empty, list is : [1, 2]\n"
          ]
        }
      ],
      "source": [
        "# Please write The solution Here for above question 5:\n",
        "var = []\n",
        "n = int(input(\"Enter number of elements: \"))\n",
        "for i in range(n):\n",
        "    element = int(input(f\"Enter element {i+1}: \"))\n",
        "    var.append(element)\n",
        "if var:\n",
        "  print(f\"not empty, list is : {var}\")\n",
        "else:\n",
        "  print(\"empty\")\n"
      ]
    },
    {
      "cell_type": "markdown",
      "id": "fac17884",
      "metadata": {
        "id": "fac17884"
      },
      "source": [
        "### Question 6:  Write a Python program to find the index of a specified element in a list..\n",
        "\n",
        "- `sample input : `\n",
        "    - `var = [1,2,3,4,2,5]`\n",
        "- `sample output :`\n",
        "    - `result : 3 index is 2`"
      ]
    },
    {
      "cell_type": "code",
      "execution_count": null,
      "id": "f4b33095",
      "metadata": {
        "id": "f4b33095",
        "colab": {
          "base_uri": "https://localhost:8080/"
        },
        "outputId": "12baaaf2-056d-4ea3-9e17-90b19835b373"
      },
      "outputs": [
        {
          "output_type": "stream",
          "name": "stdout",
          "text": [
            "Enter number of elements: 6\n",
            "Enter element 1: 1\n",
            "Enter element 2: 2\n",
            "Enter element 3: 3\n",
            "Enter element 4: 4\n",
            "Enter element 5: 2\n",
            "Enter element 6: 5\n",
            "enter the element to find it's index3\n",
            " 3 index is  2\n"
          ]
        }
      ],
      "source": [
        "# Please write The solution Here for above question 6:\n",
        "var = []\n",
        "n = int(input(\"Enter number of elements: \"))\n",
        "for i in range(n):\n",
        "    element = int(input(f\"Enter element {i+1}: \"))\n",
        "    var.append(element)\n",
        "x = int(input(\"enter the element to find it's index : \"))\n",
        "y = var.index(x)\n",
        "print(f\" {x} index is  {y}\")\n"
      ]
    },
    {
      "cell_type": "markdown",
      "id": "2170d6f4",
      "metadata": {
        "id": "2170d6f4"
      },
      "source": [
        "### Question 7: Write a Python program to find which number is palindrome in below given list .\n",
        "\n",
        "- `sample input : `\n",
        "    - `var = [134,121,155]`\n",
        "- `sample output :`\n",
        "    - `result : 134 is not a palindome , 121 is a palindrome `"
      ]
    },
    {
      "cell_type": "code",
      "execution_count": null,
      "id": "f35de8b3",
      "metadata": {
        "id": "f35de8b3",
        "colab": {
          "base_uri": "https://localhost:8080/"
        },
        "outputId": "3ea61fed-ca95-4514-fee3-e2798a475077"
      },
      "outputs": [
        {
          "output_type": "stream",
          "name": "stdout",
          "text": [
            "here is the list of palimdromes : [121, 34543, 878, 91019]\n"
          ]
        }
      ],
      "source": [
        "# Please write The solution Here for above question 7:\n",
        "var1 = []\n",
        "var2 = []\n",
        "n = int(input(\"Enter number of elements: \"))\n",
        "for i in range(n):\n",
        "    element = int(input(f\"Enter element {i+1}: \"))\n",
        "    var1.append(element)\n",
        "for number in var1:\n",
        "  string_number =  str(number)\n",
        "  if string_number == string_number[::-1]:\n",
        "    var2.append(number)\n",
        "print(f\"here is the list of palimdromes : {var2}\")\n"
      ]
    },
    {
      "cell_type": "markdown",
      "id": "f349bdb7",
      "metadata": {
        "id": "f349bdb7"
      },
      "source": [
        "### Question 8: Write a Python program to find the common elements between two lists.\n",
        "\n",
        "- `sample input : `\n",
        "    - `var1 = [1,2,3,4,10]`\n",
        "    - `var2 = [10,11,12,14]`\n",
        "- `sample output :`\n",
        "    - `result : 10`"
      ]
    },
    {
      "cell_type": "code",
      "execution_count": null,
      "id": "a1b4c4e6",
      "metadata": {
        "id": "a1b4c4e6",
        "colab": {
          "base_uri": "https://localhost:8080/"
        },
        "outputId": "2d3f0387-2870-4854-cf22-f5d66d426f15"
      },
      "outputs": [
        {
          "output_type": "stream",
          "name": "stdout",
          "text": [
            "common elements are : [10, 11, 14, 12]\n"
          ]
        }
      ],
      "source": [
        "# Please write The solution Here for above question 8:\n",
        "var1 = [1,2,3,4,10]\n",
        "var2 = [10,11,12,14]\n",
        "var3 = []\n",
        "for number1 in var1:\n",
        "  for number2 in var2:\n",
        "    if number1 == number2:\n",
        "      var3.append(number1)\n",
        "print(f\"common elements are : {var3}\")\n",
        "\n"
      ]
    },
    {
      "cell_type": "markdown",
      "id": "d2770696",
      "metadata": {
        "id": "d2770696"
      },
      "source": [
        "### Question 9: Write a Python program to remove the duplicates from a list\n",
        "\n",
        "- `sample input : `\n",
        "    - `var = [10,11,12,10,12,24]`\n",
        "- `sample output :`\n",
        "    - `result : [10,11,12,24]`"
      ]
    },
    {
      "cell_type": "code",
      "execution_count": null,
      "id": "7fdc2e9c",
      "metadata": {
        "id": "7fdc2e9c",
        "colab": {
          "base_uri": "https://localhost:8080/"
        },
        "outputId": "b70f9586-d76b-4e2c-e13d-6ffbf467be98"
      },
      "outputs": [
        {
          "output_type": "stream",
          "name": "stdout",
          "text": [
            "[10, 11, 12, 24]\n"
          ]
        }
      ],
      "source": [
        "# Please write The solution Here for above question 9:\n",
        "var1 = [10,11,12,10,12,24]\n",
        "var2 = []\n",
        "for number in var:\n",
        "  if number not in var2:\n",
        "    var2.append(number)\n",
        "print(var2)"
      ]
    },
    {
      "cell_type": "markdown",
      "id": "5c9a3f09",
      "metadata": {
        "id": "5c9a3f09"
      },
      "source": [
        "### Question 10:  Write a Python program to sort a list of strings in Ascii Order [Ascending order]\n",
        "\n",
        "\n",
        "- `sample input : `\n",
        "    - `var = ['a' , 'c' , 'b']`\n",
        "- `sample output :`\n",
        "    - `result : ['a' , 'b' , 'c']`\n"
      ]
    },
    {
      "cell_type": "code",
      "execution_count": 37,
      "id": "57c0c30e",
      "metadata": {
        "id": "57c0c30e",
        "colab": {
          "base_uri": "https://localhost:8080/"
        },
        "outputId": "79c53147-65e4-4339-d82b-6dc3f965aad1"
      },
      "outputs": [
        {
          "output_type": "stream",
          "name": "stdout",
          "text": [
            "['a', 'b', 'c', 'd', 'e']\n"
          ]
        }
      ],
      "source": [
        "# Please write The solution Here for above question 10:\n",
        "var1 = ['a' , 'c' , 'b','e', 'd']\n",
        "var2 = []\n",
        "var3 = []\n",
        "for i in  var1:\n",
        "  var2.append(ord(i))\n",
        "var2 = sorted(var2)\n",
        "for i in var2:\n",
        "  var3.append(chr(i))\n",
        "print(var3)\n"
      ]
    }
  ],
  "metadata": {
    "kernelspec": {
      "display_name": "Python 3 (ipykernel)",
      "language": "python",
      "name": "python3"
    },
    "language_info": {
      "codemirror_mode": {
        "name": "ipython",
        "version": 3
      },
      "file_extension": ".py",
      "mimetype": "text/x-python",
      "name": "python",
      "nbconvert_exporter": "python",
      "pygments_lexer": "ipython3",
      "version": "3.11.5"
    },
    "colab": {
      "provenance": []
    }
  },
  "nbformat": 4,
  "nbformat_minor": 5
}