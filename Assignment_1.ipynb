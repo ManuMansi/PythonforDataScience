{
  "cells": [
    {
      "cell_type": "markdown",
      "metadata": {
        "id": "62VW4X1p2mIX"
      },
      "source": [
        "## Question 1"
      ]
    },
    {
      "cell_type": "markdown",
      "metadata": {
        "id": "TWvR6RZY2mIY"
      },
      "source": [
        "- `Take two integer numbers and return their product. If the product is greater than 1000, then return their sum if product is less than 1000 return product value only.`\n",
        "\n"
      ]
    },
    {
      "cell_type": "code",
      "execution_count": 1,
      "metadata": {
        "id": "e3EF0jdD2mIZ",
        "colab": {
          "base_uri": "https://localhost:8080/"
        },
        "outputId": "c3620ec6-82fa-4401-d886-85b9001275a4"
      },
      "outputs": [
        {
          "output_type": "stream",
          "name": "stdout",
          "text": [
            "enter 1st number : 400\n",
            "enter 2nd number : 4\n",
            "result is 404\n"
          ]
        }
      ],
      "source": [
        "# Please write The solution Here for above question 1:\n",
        "def product(var1, var2):\n",
        "  product = var1 * var2\n",
        "  if product > 1000:\n",
        "    return var1+var2\n",
        "  else:\n",
        "    return product\n",
        "\n",
        "var1 = int(input(\"enter 1st number : \"))\n",
        "var2 = int(input(\"enter 2nd number : \"))\n",
        "result = product(var1, var2)\n",
        "print(f\"result is {result}\")"
      ]
    },
    {
      "cell_type": "markdown",
      "metadata": {
        "id": "yOhnFwA32mIZ"
      },
      "source": [
        "## question 2"
      ]
    },
    {
      "cell_type": "markdown",
      "metadata": {
        "id": "h2QyWA-_2mIa"
      },
      "source": [
        "- `Given a range of the first 10 numbers, Iterate from the start number to the end number, and In each iteration print the sum of the current number and previous number`\n",
        "\n",
        "Expected output:\n",
        "-----------------\n",
        "    Printing current and previous number sum in a range(10)\n",
        "    Current Number 0 Previous Number  0  Sum:  0\n",
        "    Current Number 1 Previous Number  0  Sum:  1\n",
        "    Current Number 2 Previous Number  1  Sum:  3\n",
        "    Current Number 3 Previous Number  2  Sum:  5\n",
        "    Current Number 4 Previous Number  3  Sum:  7\n",
        "    Current Number 5 Previous Number  4  Sum:  9\n",
        "    Current Number 6 Previous Number  5  Sum:  11\n",
        "    Current Number 7 Previous Number  6  Sum:  13\n",
        "    Current Number 8 Previous Number  7  Sum:  15\n",
        "    Current Number 9 Previous Number  8  Sum:  17"
      ]
    },
    {
      "cell_type": "code",
      "execution_count": 6,
      "metadata": {
        "id": "d28X6R0F2mIa",
        "colab": {
          "base_uri": "https://localhost:8080/"
        },
        "outputId": "34dbcf1c-8859-4cbf-a8fa-496e8251eb87"
      },
      "outputs": [
        {
          "output_type": "stream",
          "name": "stdout",
          "text": [
            "Current Number 0 Previous Number 0 Sum: 0\n",
            "Current Number 1 Previous Number 1 Sum: 1\n",
            "Current Number 2 Previous Number 2 Sum: 3\n",
            "Current Number 3 Previous Number 3 Sum: 5\n",
            "Current Number 4 Previous Number 4 Sum: 7\n",
            "Current Number 5 Previous Number 5 Sum: 9\n",
            "Current Number 6 Previous Number 6 Sum: 11\n",
            "Current Number 7 Previous Number 7 Sum: 13\n",
            "Current Number 8 Previous Number 8 Sum: 15\n",
            "Current Number 9 Previous Number 9 Sum: 17\n"
          ]
        }
      ],
      "source": [
        "# Please write The solution Here for above question 2:\n",
        "current_number = 0\n",
        "previous_number = 0\n",
        "for i in range(0,10):\n",
        "  sum = current_number+previous_number\n",
        "  previous_number = current_number\n",
        "  print(f\"Current Number {current_number} Previous Number {previous_number} Sum: {sum}\")\n",
        "  current_number+=1\n",
        "\n"
      ]
    },
    {
      "cell_type": "markdown",
      "metadata": {
        "id": "Y42AwHYr2mIa"
      },
      "source": [
        "## question 3"
      ]
    },
    {
      "cell_type": "markdown",
      "metadata": {
        "id": "4m3U7Uku2mIa"
      },
      "source": [
        "Given a string and an integer number n, remove characters from a string starting from zero up to n and return a new string\n",
        "\n",
        "- Example :\n",
        "     `(\"pynative\", 4) so output must be tive.`\n",
        "     \n",
        "     `Note: n must be less than the length of the string.`"
      ]
    },
    {
      "cell_type": "code",
      "execution_count": 24,
      "metadata": {
        "id": "81DVEAaV2mIb",
        "colab": {
          "base_uri": "https://localhost:8080/"
        },
        "outputId": "3f1774dc-9342-4c99-e0e9-7548d7fc9da5"
      },
      "outputs": [
        {
          "output_type": "stream",
          "name": "stdout",
          "text": [
            "enter a string : pynative\n",
            "enter the value of n less than 8: 4\n",
            "tive\n"
          ]
        }
      ],
      "source": [
        "# Please write The solution Here for above question 3:\n",
        "def remove_characters(string1, n):\n",
        "  return string1[n:]\n",
        "string1 = input(\"enter a string : \")\n",
        "n = int(input(f\"enter the value of n less than {len(string1)}: \"))\n",
        "result = remove_characters(string1,n)\n",
        "print(result)"
      ]
    },
    {
      "cell_type": "markdown",
      "metadata": {
        "id": "5Z3_729m2mIb"
      },
      "source": [
        "## question 4"
      ]
    },
    {
      "cell_type": "markdown",
      "metadata": {
        "id": "db2o3e5f2mIb"
      },
      "source": [
        "### `Given a list of numbers, return True if first and last number of a list is same`\n",
        "\n",
        "    Expected Output:\n",
        "    -------------------------------------\n",
        "\n",
        "    Given list is\n",
        "    a =  [10, 20, 30, 40, 10]\n",
        "    b = [10 , 20 , 30 , 40, 10 ]\n",
        "    result is True\n",
        "\n",
        "    Given list is  \n",
        "    a = [10, 20, 30, 40, 50]\n",
        "    b = [11 , 21 , 31 , 41 , 51 ]\n",
        "    result is False"
      ]
    },
    {
      "cell_type": "code",
      "execution_count": 26,
      "metadata": {
        "id": "R6GiKVxk2mIb",
        "colab": {
          "base_uri": "https://localhost:8080/"
        },
        "outputId": "728bbcc6-c4bd-4384-eeab-4c8b17330fa8"
      },
      "outputs": [
        {
          "output_type": "stream",
          "name": "stdout",
          "text": [
            "result is false\n",
            "result is false\n"
          ]
        }
      ],
      "source": [
        "# Please write The solution Here for above question 4:\n",
        "a = [10, 20, 30, 40, 50]\n",
        "b = [11 , 21 , 31 , 41 , 51 ]\n",
        "for i in a,b:\n",
        "  if a[0]==a[-1]:\n",
        "    print(\"result is true\")\n",
        "  else:\n",
        "    print(\"result is false\")\n",
        "\n"
      ]
    },
    {
      "cell_type": "markdown",
      "metadata": {
        "id": "ovXRCTy42mIb"
      },
      "source": [
        "## question 5"
      ]
    },
    {
      "cell_type": "markdown",
      "metadata": {
        "id": "fMPe7WL52mIb"
      },
      "source": [
        "### Given a two Python list. Iterate both lists simultaneously such that list1 should display item in original order and list2 in reverse order\n",
        "\n",
        "    list1 = [10, 20, 30, 40]\n",
        "    list2 = [100, 200, 300, 400]\n",
        "\n",
        "\n",
        "    Expected output:\n",
        "    -----------------------------\n",
        "    10 400\n",
        "    20 300\n",
        "    30 200\n",
        "    40 100"
      ]
    },
    {
      "cell_type": "code",
      "execution_count": null,
      "metadata": {
        "id": "AR3I1Xqb2mIb"
      },
      "outputs": [],
      "source": [
        "# Please write The solution Here for above question 5:\n",
        "\n",
        "\n",
        "\n"
      ]
    },
    {
      "cell_type": "markdown",
      "metadata": {
        "id": "4Uj0aPB-2mIb"
      },
      "source": [
        "## question 6"
      ]
    },
    {
      "cell_type": "markdown",
      "metadata": {
        "id": "wmKZA8K32mIb"
      },
      "source": [
        "### Remove empty strings from the list of strings\n",
        "\n",
        "\n",
        "    list1 = [\"Mike\", \"\", \"Emma\", \"Kelly\", \"\", \"Brad\"]\n",
        "\n",
        "    Expected output:\n",
        "    ----------------------\n",
        "\n",
        "    [\"Mike\", \"Emma\", \"Kelly\", \"Brad\"]\n"
      ]
    },
    {
      "cell_type": "code",
      "execution_count": 29,
      "metadata": {
        "id": "IxAnYdNV2mIc",
        "colab": {
          "base_uri": "https://localhost:8080/"
        },
        "outputId": "45d3193b-5e43-4581-c455-f07d62d432c0"
      },
      "outputs": [
        {
          "output_type": "stream",
          "name": "stdout",
          "text": [
            "['Mike', 'Emma', 'Kelly', 'Brad']\n"
          ]
        }
      ],
      "source": [
        "# Please write The solution Here for above question 6:\n",
        "list1 = [\"Mike\", \"\", \"Emma\", \"Kelly\", \"\", \"Brad\"]\n",
        "list2 = []\n",
        "for i in list1:\n",
        "  if len(i)!=0:\n",
        "    list2.append(i)\n",
        "print(list2)\n"
      ]
    },
    {
      "cell_type": "code",
      "execution_count": null,
      "metadata": {
        "id": "ln50rL5c2mIc"
      },
      "outputs": [],
      "source": [
        "# hr.viharatech@gmail.com"
      ]
    }
  ],
  "metadata": {
    "kernelspec": {
      "display_name": "Python 3 (ipykernel)",
      "language": "python",
      "name": "python3"
    },
    "language_info": {
      "codemirror_mode": {
        "name": "ipython",
        "version": 3
      },
      "file_extension": ".py",
      "mimetype": "text/x-python",
      "name": "python",
      "nbconvert_exporter": "python",
      "pygments_lexer": "ipython3",
      "version": "3.11.5"
    },
    "colab": {
      "provenance": []
    }
  },
  "nbformat": 4,
  "nbformat_minor": 0
}