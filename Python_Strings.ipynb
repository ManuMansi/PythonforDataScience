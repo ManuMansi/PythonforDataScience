{
  "cells": [
    {
      "cell_type": "markdown",
      "id": "b5fabd6b",
      "metadata": {
        "id": "b5fabd6b"
      },
      "source": [
        "<a href=\"https://www.viharatech.com\"><img src=\"https://miro.medium.com/v2/resize:fit:828/format:webp/1*on2Bpj6A5gfd-CzaFOAZRA.jpeg\"></a>\n",
        "\n",
        "\n",
        "- `Welcome to our interactive learning session! In this Jupyter notebook, you'll find a series of questions related to Python String Concept. To maximize your learning, please write Python code in the cell below each question and execute it. This hands-on practice will help reinforce your understanding of the concepts. Feel free to reach out if you have any questions or need assistance. Happy coding! 💻🐍 `"
      ]
    },
    {
      "cell_type": "markdown",
      "id": "db689fc2",
      "metadata": {
        "id": "db689fc2"
      },
      "source": [
        "### Question 1: Write a Python program to count the number of characters in a string without using len function.\n",
        "\n",
        "- `sample input : `\n",
        "    - `var = 'python java'`\n",
        "- `sample output :`\n",
        "    - `result : 11`"
      ]
    },
    {
      "cell_type": "code",
      "execution_count": 2,
      "id": "c9ce9180",
      "metadata": {
        "colab": {
          "base_uri": "https://localhost:8080/"
        },
        "id": "c9ce9180",
        "outputId": "cb814db0-9753-4ee3-ce01-0aed445ee366"
      },
      "outputs": [
        {
          "output_type": "stream",
          "name": "stdout",
          "text": [
            "enter the string to count number of characters : Hello World\n",
            "number of characters are : 11\n"
          ]
        }
      ],
      "source": [
        "# Please write The solution Here for above question 1:\n",
        "\n",
        "var = input(\"enter the string to count number of characters : \")\n",
        "i=0\n",
        "for letter in var:\n",
        "  i+=1\n",
        "print(f\"number of characters are : {i}\")"
      ]
    },
    {
      "cell_type": "markdown",
      "id": "46f069cc",
      "metadata": {
        "id": "46f069cc"
      },
      "source": [
        "### Question 2: Write a Python program to reverse a string without using [::-1]\n",
        "\n",
        "- `sample input : `\n",
        "    - `var = 'python'`\n",
        "- `sample output :`\n",
        "    - `result : nohtyp`"
      ]
    },
    {
      "cell_type": "code",
      "execution_count": 21,
      "id": "2cde3dcc",
      "metadata": {
        "colab": {
          "base_uri": "https://localhost:8080/"
        },
        "id": "2cde3dcc",
        "outputId": "14887298-1007-4f50-c325-ef9b91f9b19f"
      },
      "outputs": [
        {
          "output_type": "stream",
          "name": "stdout",
          "text": [
            "enter the string to reverse : manasa\n",
            "Reverve string is : asanam\n"
          ]
        }
      ],
      "source": [
        "# Please write The solution Here for above question 2:\n",
        "var = input(\"enter the string to reverse : \")\n",
        "reverse_var = \"\"\n",
        "for char in var:\n",
        "  reverse_var = char+reverse_var\n",
        "  #reverse_var = reverse_var+char\n",
        "print(f\"Reverve string is : {reverse_var}\")"
      ]
    },
    {
      "cell_type": "markdown",
      "id": "0f3a2ef5",
      "metadata": {
        "id": "0f3a2ef5"
      },
      "source": [
        "### Question 3: Write a Python program to check if a string is a palindrome don't use [::-1].\n",
        "\n",
        "- `sample input : `\n",
        "    - `var = 'NUN'`\n",
        "- `sample output :`\n",
        "    - `result : It is a Palindrome`\n",
        "    \n",
        "- `palindrome concept = https://www.dictionary.com/e/palindromic-word/#:~:text=A%20palindrome%20is%20a%20word,roots%20in%20the%20early%201600s.`"
      ]
    },
    {
      "cell_type": "code",
      "execution_count": 25,
      "id": "74b9f01a",
      "metadata": {
        "colab": {
          "base_uri": "https://localhost:8080/"
        },
        "id": "74b9f01a",
        "outputId": "158ab2a5-81f5-438c-a340-6908822b47ae"
      },
      "outputs": [
        {
          "output_type": "stream",
          "name": "stdout",
          "text": [
            "enter the string to check if it is palindrome : masam\n",
            "masam is a palindrome\n"
          ]
        }
      ],
      "source": [
        "# Please write The solution Here for above question 3:\n",
        "var = input(\"enter the string to check if it is palindrome : \")\n",
        "reverse_var = \"\"\n",
        "for char in var:\n",
        "  reverse_var = char+reverse_var\n",
        "  #reverse_var = reverse_var+char\n",
        "if var == reverse_var:\n",
        "  print(f\"{var} is a palindrome\")\n",
        "else:\n",
        "  print(f\"{var} is not a palindrome\")"
      ]
    },
    {
      "cell_type": "markdown",
      "id": "98e0fc60",
      "metadata": {
        "id": "98e0fc60"
      },
      "source": [
        "### Question 4: Write a Python program to find the most common character in a string.\n",
        "\n",
        "- `sample input : `\n",
        "    - `var = 'Hello world '`\n",
        "- `sample output :`\n",
        "    - `result : l, because l is repeating 3 times `"
      ]
    },
    {
      "cell_type": "code",
      "execution_count": 4,
      "id": "d9aa4ca6",
      "metadata": {
        "colab": {
          "base_uri": "https://localhost:8080/"
        },
        "id": "d9aa4ca6",
        "outputId": "33e43922-4d48-4cb1-e44d-25a9cf110b88"
      },
      "outputs": [
        {
          "output_type": "stream",
          "name": "stdout",
          "text": [
            "enter the string to check most common character in it : hello, I love you!!\n",
            "result : l, because l is repeating 3 times\n"
          ]
        }
      ],
      "source": [
        "# Please write The solution Here for above question 4:\n",
        "var=input(\"enter the string to check most common character in it : \")\n",
        "count1 = count2 = 0\n",
        "for char in var:\n",
        "  count2  = var.count(char)\n",
        "  if count2>count1:\n",
        "    count1 = count2\n",
        "    result = char\n",
        "print(f\"result : {result}, because {result} is repeating {count1} times\")"
      ]
    },
    {
      "cell_type": "markdown",
      "id": "17eb44eb",
      "metadata": {
        "id": "17eb44eb"
      },
      "source": [
        "### Question 5: Write a Python program to check if two strings are anagrams.\n",
        "\n",
        "- `sample input : `\n",
        "    - `var1 = 'listen'`\n",
        "    - `var2 = 'silent'`\n",
        "- `sample output :`\n",
        "    - `result : both are anagram because characters in var2 should present in var1 `"
      ]
    },
    {
      "cell_type": "code",
      "execution_count": 75,
      "id": "29f0e87e",
      "metadata": {
        "colab": {
          "base_uri": "https://localhost:8080/"
        },
        "id": "29f0e87e",
        "outputId": "d2ceaeab-e86b-4c2f-9302-7688e9bb00a3"
      },
      "outputs": [
        {
          "output_type": "stream",
          "name": "stdout",
          "text": [
            "enter the 1st string to check anagram : listen\n",
            "enter the 2nd string to check anagram : silent\n",
            "listen and silent are anagrams\n"
          ]
        }
      ],
      "source": [
        "# Please write The solution Here for above question 5:\n",
        "#a word, phrase, or name formed by rearranging the letters of another,such as spar, formed from rasp.\n",
        "var1=input(\"enter the 1st string to check anagram : \")\n",
        "var2=input(\"enter the 2nd string to check anagram : \")\n",
        "if sorted(var2) == sorted(var1):\n",
        "  print(f\"{var1} and {var2} are anagrams\")\n",
        "else:\n",
        "  print(f\"{var1} and {var2} are not anagrams\")"
      ]
    },
    {
      "cell_type": "markdown",
      "id": "fac17884",
      "metadata": {
        "id": "fac17884"
      },
      "source": [
        "### Question 6: Write a Python program to remove all the vowels from a string.\n",
        "\n",
        "- `sample input : `\n",
        "    - `var = 'python'`\n",
        "- `sample output :`\n",
        "    - `result : pythn , because vowels are [AEIOUaeiou]`"
      ]
    },
    {
      "cell_type": "code",
      "execution_count": 19,
      "id": "f4b33095",
      "metadata": {
        "colab": {
          "base_uri": "https://localhost:8080/"
        },
        "id": "f4b33095",
        "outputId": "38b454ba-da9e-4229-c5b2-c4648cd94922"
      },
      "outputs": [
        {
          "output_type": "stream",
          "name": "stdout",
          "text": [
            "enter the string to remove all the vowels : python\n",
            "result : pythn, because vowels are ['A', 'E', 'I', 'O', 'U', 'a', 'e', 'i', 'o', 'u']\n"
          ]
        }
      ],
      "source": [
        "# Please write The solution Here for above question 6:\n",
        "var=input(\"enter the string to remove all the vowels : \")\n",
        "vowels = [\"A\",\"E\",\"I\",\"O\",\"U\",\"a\",\"e\",\"i\",\"o\",\"u\"]\n",
        "for letter in vowels:\n",
        "  var = var.replace(letter,'')\n",
        "\n",
        "print(f\"result : {var}, because vowels are {vowels}\")"
      ]
    },
    {
      "cell_type": "markdown",
      "id": "2170d6f4",
      "metadata": {
        "id": "2170d6f4"
      },
      "source": [
        "### Question 7: Write a Python program to find the longest word in a string.\n",
        "\n",
        "- `sample input : `\n",
        "    - `var = 'python is Easy Language'`\n",
        "- `sample output :`\n",
        "    - `result : Language`"
      ]
    },
    {
      "cell_type": "code",
      "execution_count": 23,
      "id": "f35de8b3",
      "metadata": {
        "colab": {
          "base_uri": "https://localhost:8080/"
        },
        "id": "f35de8b3",
        "outputId": "f507c4d7-dc08-4713-9522-107459b7659f"
      },
      "outputs": [
        {
          "output_type": "stream",
          "name": "stdout",
          "text": [
            "enter a sentence to find the logest word in string : i love python so much\n",
            "['i', 'love', 'python', 'so', 'much']\n",
            "python\n"
          ]
        }
      ],
      "source": [
        "# Please write The solution Here for above question 7:\n",
        "var = input(\"enter a sentence to find the logest word in string : \")\n",
        "count1 = count2 = 0\n",
        "words = var.split()\n",
        "for word in words:\n",
        "  count2 = len(word)\n",
        "  if count2>count1:\n",
        "    count1=count2\n",
        "    result=word\n",
        "print(f\"{result}\")"
      ]
    },
    {
      "cell_type": "markdown",
      "id": "f349bdb7",
      "metadata": {
        "id": "f349bdb7"
      },
      "source": [
        "### Question 8: Write a Python program to capitalize the first letter of each word in a string [dont use built-in-function called title].\n",
        "\n",
        "- `sample input : `\n",
        "    - `var = 'python is easy'`\n",
        "- `sample output :`\n",
        "    - `result : Python Is Easy`"
      ]
    },
    {
      "cell_type": "code",
      "execution_count": 34,
      "id": "a1b4c4e6",
      "metadata": {
        "colab": {
          "base_uri": "https://localhost:8080/"
        },
        "id": "a1b4c4e6",
        "outputId": "1e2a9bdb-eb15-4326-8311-cf4b78b44bb5"
      },
      "outputs": [
        {
          "output_type": "stream",
          "name": "stdout",
          "text": [
            "enter a string to capitalize each word of a string : python is very easy\n",
            "Python Is Very Easy\n"
          ]
        }
      ],
      "source": [
        "# Please write The solution Here for above question 8:\n",
        "var = input(\"enter a string to capitalize each word of a string : \")\n",
        "words = var.split()\n",
        "upper_words =[]\n",
        "for word in words:\n",
        "  upper_word = word[0].upper() + word[1:].lower()\n",
        "  upper_words.append(upper_word)\n",
        "\n",
        "    # Join the list of words back into a single string\n",
        "var = ' '.join(upper_words)\n",
        "print(var)"
      ]
    },
    {
      "cell_type": "markdown",
      "id": "d2770696",
      "metadata": {
        "id": "d2770696"
      },
      "source": [
        "### Question 9: Write a Python program to find the frequency of each character in a string.\n",
        "\n",
        "- `sample input : `\n",
        "    - `var = 'sharuk khan'`\n",
        "- `sample output :`\n",
        "    - `result : {'s': 1, 'h': 2, 'a': 2, 'r': 1, 'u': 1, 'k': 2, ' ': 1, 'n': 1}`"
      ]
    },
    {
      "cell_type": "code",
      "execution_count": 46,
      "id": "7fdc2e9c",
      "metadata": {
        "colab": {
          "base_uri": "https://localhost:8080/"
        },
        "id": "7fdc2e9c",
        "outputId": "a862a839-9a33-40cc-a2e6-c3cf86eee676"
      },
      "outputs": [
        {
          "output_type": "stream",
          "name": "stdout",
          "text": [
            "enter a string to find the frequency of each character : sharuk khan\n",
            "{'s': 1, 'h': 2, 'a': 2, 'r': 1, 'u': 1, 'k': 2, ' ': 1, 'n': 1}\n"
          ]
        }
      ],
      "source": [
        "# Please write The solution Here for above question 9:\n",
        "var = input(\"enter a string to find the frequency of each character : \")\n",
        "result = {}\n",
        "result = dict(result)\n",
        "#print(type(result))\n",
        "for letter in var:\n",
        "  count  = var.count(letter)\n",
        "  result.update({letter:count})\n",
        "print(result)"
      ]
    },
    {
      "cell_type": "markdown",
      "id": "5c9a3f09",
      "metadata": {
        "id": "5c9a3f09"
      },
      "source": [
        "### Question 10: write a python programme to find the sum of all the even characters based on Ascii values\n",
        "\n",
        "- `sample input : `\n",
        "    - `var = 'sharuk khan'`\n",
        "- `sample output :`\n",
        "    - `result : 464`\n"
      ]
    },
    {
      "cell_type": "code",
      "execution_count": 76,
      "id": "57c0c30e",
      "metadata": {
        "colab": {
          "base_uri": "https://localhost:8080/"
        },
        "id": "57c0c30e",
        "outputId": "cf5bfd93-641c-41e1-c334-66b90f94bcb8"
      },
      "outputs": [
        {
          "output_type": "stream",
          "name": "stdout",
          "text": [
            "enter the string  to find the sum of all the even characters based on Ascii values : sharuk khan\n",
            "464\n"
          ]
        }
      ],
      "source": [
        "# Please write The solution Here for above question 10:\n",
        "var = input(\"enter the string  to find the sum of all the even characters based on Ascii values : \")\n",
        "#result = 0\n",
        "ascii_sum=0\n",
        "for letter in var:\n",
        "  ascii_value = ord(letter)\n",
        "  #print(ascii_value)\n",
        "  if ascii_value%2==0:\n",
        "    ascii_sum += ascii_value\n",
        "print(f\"result : {ascii_sum}\")"
      ]
    },
    {
      "cell_type": "code",
      "execution_count": null,
      "id": "0f50a5f5",
      "metadata": {
        "id": "0f50a5f5"
      },
      "outputs": [],
      "source": []
    }
  ],
  "metadata": {
    "kernelspec": {
      "display_name": "Python 3 (ipykernel)",
      "language": "python",
      "name": "python3"
    },
    "language_info": {
      "codemirror_mode": {
        "name": "ipython",
        "version": 3
      },
      "file_extension": ".py",
      "mimetype": "text/x-python",
      "name": "python",
      "nbconvert_exporter": "python",
      "pygments_lexer": "ipython3",
      "version": "3.11.5"
    },
    "colab": {
      "provenance": []
    }
  },
  "nbformat": 4,
  "nbformat_minor": 5
}